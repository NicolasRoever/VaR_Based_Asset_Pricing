{
 "cells": [
  {
   "cell_type": "code",
   "execution_count": null,
   "metadata": {},
   "outputs": [],
   "source": [
    "w1^2 sigma1^2 + (1-w1)^2 sigma2^2 + 2 sigma1 sigma2 w1 (1-w1) <= 1/9.55 (3.09(w1^2 sigma1^2 + (1-w1)^2 sigma2^2 + 2 sigma1 sigma2 w1 (1-w1) ) (mu1 w1 + mu2(1-w1) Wt))^2"
   ]
  },
  {
   "cell_type": "code",
   "execution_count": 3,
   "metadata": {},
   "outputs": [
    {
     "name": "stdout",
     "output_type": "stream",
     "text": [
      "Optimal solution:\n",
      "x: [2. 3.]\n",
      "Optimal value: 0.0\n"
     ]
    }
   ],
   "source": [
    "from scipy.optimize import minimize\n",
    "\n",
    "# Define the objective function to minimize\n",
    "def objective_function(x):\n",
    "    return (x[0] - 2) ** 2 + (x[1] - 3) ** 2\n",
    "\n",
    "# Define the constraints (inequality constraint: x[0] + x[1] >= 1)\n",
    "def constraint_function(x):\n",
    "    return x[0] + x[1] - 1\n",
    "\n",
    "# Initial guess for the optimization\n",
    "initial_guess = [0, 0]\n",
    "\n",
    "# Define the bounds for the variables\n",
    "bounds = ((-10, 10), (-10, 10))\n",
    "\n",
    "# Define the constraint dictionary\n",
    "constraints = ({'type': 'ineq', 'fun': constraint_function})\n",
    "\n",
    "# Perform the optimization\n",
    "result = minimize(objective_function, initial_guess, bounds=bounds, constraints=constraints)\n",
    "\n",
    "# Print the result\n",
    "print(\"Optimal solution:\")\n",
    "print(\"x:\", result.x)\n",
    "print(\"Optimal value:\", result.fun)\n"
   ]
  }
 ],
 "metadata": {
  "kernelspec": {
   "display_name": "Python 3",
   "language": "python",
   "name": "python3"
  },
  "language_info": {
   "codemirror_mode": {
    "name": "ipython",
    "version": 3
   },
   "file_extension": ".py",
   "mimetype": "text/x-python",
   "name": "python",
   "nbconvert_exporter": "python",
   "pygments_lexer": "ipython3",
   "version": "3.11.4"
  }
 },
 "nbformat": 4,
 "nbformat_minor": 2
}
