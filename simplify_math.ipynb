{
 "cells": [
  {
   "cell_type": "code",
   "execution_count": null,
   "metadata": {},
   "outputs": [],
   "source": [
    "w1^2 sigma1^2 + (1-w1)^2 sigma2^2 + 2 sigma1 sigma2 w1 (1-w1) <= 1/9.55 (3.09(w1^2 sigma1^2 + (1-w1)^2 sigma2^2 + 2 sigma1 sigma2 w1 (1-w1) ) (mu1 w1 + mu2(1-w1) Wt))^2"
   ]
  },
  {
   "cell_type": "code",
   "execution_count": 13,
   "metadata": {},
   "outputs": [
    {
     "name": "stdout",
     "output_type": "stream",
     "text": [
      "Optimal solution:\n",
      "x: [2. 3.]\n",
      "Optimal value: 0.0\n"
     ]
    }
   ],
   "source": [
    "from scipy.optimize import minimize\n",
    "\n",
    "# Define the objective function to minimize\n",
    "def objective_function(x):\n",
    "    return (x[0] - 2) ** 2 + (x[1] - 3) ** 2\n",
    "\n",
    "# Define the constraints (inequality constraint: x[0] + x[1] >= 1)\n",
    "def constraint_function(x):\n",
    "    return x[0] + x[1] - 1\n",
    "\n",
    "# Initial guess for the optimization\n",
    "initial_guess = [0, 0]\n",
    "\n",
    "# Define the bounds for the variables\n",
    "bounds = ((-10, 10), (-10, 10))\n",
    "\n",
    "# Define the constraint dictionary\n",
    "constraints = ({'type': 'ineq', 'fun': constraint_function})\n",
    "\n",
    "# Perform the optimization\n",
    "result = minimize(objective_function, initial_guess, bounds=bounds, constraints=constraints)\n",
    "\n",
    "# Print the result\n",
    "print(\"Optimal solution:\")\n",
    "print(\"x:\", result.x)\n",
    "print(\"Optimal value:\", result.fun)\n"
   ]
  },
  {
   "cell_type": "code",
   "execution_count": 5,
   "metadata": {},
   "outputs": [
    {
     "data": {
      "text/plain": [
       "3.090232306167813"
      ]
     },
     "execution_count": 5,
     "metadata": {},
     "output_type": "execute_result"
    }
   ],
   "source": [
    "from scipy.stats import norm\n",
    "norm.ppf(0.999)"
   ]
  },
  {
   "cell_type": "code",
   "execution_count": 1,
   "metadata": {},
   "outputs": [],
   "source": [
    "import numpy as np"
   ]
  },
  {
   "cell_type": "code",
   "execution_count": 7,
   "metadata": {},
   "outputs": [],
   "source": [
    "w = np.array([1.1, 1.15])\n",
    "\n",
    "e = np.ones(2)"
   ]
  },
  {
   "cell_type": "code",
   "execution_count": 26,
   "metadata": {},
   "outputs": [],
   "source": [
    "\n",
    "\n",
    "def objective_function_only_var(w, returns, initial_wealth):\n",
    "    return - (w[0]* returns[0] + w[1] *returns[1]) * initial_wealth\n",
    "\n",
    "\n",
    "def objective_function_markowitz(w, returns, vcv_matrix, initial_wealth, risk_aversion):\n",
    "    expected_value_portfolio_number = expected_value_portfolio(w, returns, initial_wealth)\n",
    "    return -(expected_value_portfolio_number - risk_aversion/2 * initial_wealth**2 * variance_portfolio(w, vcv_matrix))\n",
    "\n",
    "\n",
    "\n",
    "def weight_sum_constraint(w):\n",
    "    e = np.ones(len(w))\n",
    "    return w @ e.T - 1\n",
    "\n",
    "def expected_value_portfolio(w, returns, initial_wealth):\n",
    "    return (w @ returns.T) * initial_wealth\n",
    "\n",
    "def variance_portfolio(w, vcv_matrix):\n",
    "    return w.T @ vcv_matrix @ w\n",
    "\n",
    "def calculate_var(w, quantile, vcv_matrix, returns, initial_wealth):\n",
    "    variance = variance_portfolio(w, vcv_matrix)\n",
    "    expected_value_portfolio_number = expected_value_portfolio(w, returns, initial_wealth)\n",
    "    return np.sqrt(variance) * norm.ppf(quantile) + expected_value_portfolio_number\n",
    "\n",
    "\n",
    "def var_risk_constraint(w, quantile, vcv_matrix, returns, initial_wealth):\n",
    "    variance = variance_portfolio(w, vcv_matrix)\n",
    "    var = calculate_var(w, quantile, vcv_matrix, returns, initial_wealth)\n",
    "    return  var/norm.ppf(quantile) - variance  \n",
    "\n",
    "\n"
   ]
  },
  {
   "cell_type": "code",
   "execution_count": 31,
   "metadata": {},
   "outputs": [],
   "source": [
    "\n",
    "def calculate_optimal_weights_markowitz(returns, vcv_matrix, initial_wealth, risk_aversion): \n",
    "    \"\"\" THis function calculates the optimal weights for a Markowitz optimizing agent. \n",
    "\n",
    "    Args: \n",
    "\n",
    "    returns (np.array): A numpy array of expected returns for each asset\n",
    "    vcv_matrix (np.array): A numpy array of the variance-covariance matrix for the returns od the assets!\n",
    "    initial_wealth (float): The initial wealth of the investor\n",
    "    var_quantile (float): The quantile of Value-at-Risk constraint\n",
    "    risk_aversion (float): Risk aversion coefficient of the agent\n",
    "\n",
    "    Returns:\n",
    "    optimal_weights (np.array): A numpy array of the optimal weights for each asset\n",
    "\n",
    "    \n",
    "    \n",
    "    \"\"\"\n",
    "\n",
    "    # Initial guess for the optimization\n",
    "    initial_guess = [0.5, 0.5]\n",
    "    \n",
    "    #Constraint Dictionary\n",
    "    constraints = ({'type': 'eq', 'fun': weight_sum_constraint})\n",
    "\n",
    "    #Perform optimization\n",
    "\n",
    "    result = minimize(objective_function_markowitz, initial_guess, constraints=constraints, args=(returns, vcv_matrix, initial_wealth, risk_aversion))\n",
    "\n",
    "    return result.x\n",
    "\n"
   ]
  },
  {
   "cell_type": "code",
   "execution_count": 32,
   "metadata": {},
   "outputs": [],
   "source": [
    "returns = np.array([1.1, 1.15])\n",
    "vcv_matrix = np.array([\n",
    "[0.06, 0.025],  # Covariance between Asset A and Asset B\n",
    "[0.025, 0.10]   # Variance of Asset B\n",
    "])\n",
    "initial_wealth = 100\n",
    "var_quantile = 0.999\n",
    "risk_aversion = 2.0"
   ]
  },
  {
   "cell_type": "code",
   "execution_count": 33,
   "metadata": {},
   "outputs": [
    {
     "data": {
      "text/plain": [
       "array([0.67954546, 0.32045454])"
      ]
     },
     "execution_count": 33,
     "metadata": {},
     "output_type": "execute_result"
    }
   ],
   "source": [
    "calculate_optimal_weights_markowitz(returns, vcv_matrix, initial_wealth, risk_aversion)"
   ]
  }
 ],
 "metadata": {
  "kernelspec": {
   "display_name": "Python 3",
   "language": "python",
   "name": "python3"
  },
  "language_info": {
   "codemirror_mode": {
    "name": "ipython",
    "version": 3
   },
   "file_extension": ".py",
   "mimetype": "text/x-python",
   "name": "python",
   "nbconvert_exporter": "python",
   "pygments_lexer": "ipython3",
   "version": "3.11.4"
  }
 },
 "nbformat": 4,
 "nbformat_minor": 2
}
