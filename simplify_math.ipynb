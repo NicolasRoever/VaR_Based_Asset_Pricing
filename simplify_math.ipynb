{
 "cells": [
  {
   "cell_type": "code",
   "execution_count": null,
   "metadata": {},
   "outputs": [],
   "source": [
    "w1^2 sigma1^2 + (1-w1)^2 sigma2^2 + 2 sigma1 sigma2 w1 (1-w1) <= 1/9.55 (3.09(w1^2 sigma1^2 + (1-w1)^2 sigma2^2 + 2 sigma1 sigma2 w1 (1-w1) ) (mu1 w1 + mu2(1-w1) Wt))^2"
   ]
  },
  {
   "cell_type": "code",
   "execution_count": 3,
   "metadata": {},
   "outputs": [
    {
     "name": "stdout",
     "output_type": "stream",
     "text": [
      "Optimal solution:\n",
      "x: [2. 3.]\n",
      "Optimal value: 0.0\n"
     ]
    }
   ],
   "source": [
    "from scipy.optimize import minimize\n",
    "\n",
    "# Define the objective function to minimize\n",
    "def objective_function(x):\n",
    "    return (x[0] - 2) ** 2 + (x[1] - 3) ** 2\n",
    "\n",
    "# Define the constraints (inequality constraint: x[0] + x[1] >= 1)\n",
    "def constraint_function(x):\n",
    "    return x[0] + x[1] - 1\n",
    "\n",
    "# Initial guess for the optimization\n",
    "initial_guess = [0, 0]\n",
    "\n",
    "# Define the bounds for the variables\n",
    "bounds = ((-10, 10), (-10, 10))\n",
    "\n",
    "# Define the constraint dictionary\n",
    "constraints = ({'type': 'ineq', 'fun': constraint_function})\n",
    "\n",
    "# Perform the optimization\n",
    "result = minimize(objective_function, initial_guess, bounds=bounds, constraints=constraints)\n",
    "\n",
    "# Print the result\n",
    "print(\"Optimal solution:\")\n",
    "print(\"x:\", result.x)\n",
    "print(\"Optimal value:\", result.fun)\n"
   ]
  },
  {
   "cell_type": "code",
   "execution_count": 5,
   "metadata": {},
   "outputs": [
    {
     "data": {
      "text/plain": [
       "3.090232306167813"
      ]
     },
     "execution_count": 5,
     "metadata": {},
     "output_type": "execute_result"
    }
   ],
   "source": [
    "from scipy.stats import norm\n",
    "norm.ppf(0.999)"
   ]
  },
  {
   "cell_type": "code",
   "execution_count": 8,
   "metadata": {},
   "outputs": [
    {
     "name": "stdout",
     "output_type": "stream",
     "text": [
      "[ 5.24102686 -4.24102686]\n"
     ]
    }
   ],
   "source": [
    "from scipy.optimize import minimize\n",
    "from scipy.stats import norm\n",
    "import numpy as np\n",
    "\n",
    "def objective_function(w, returns, initial_wealth):\n",
    "    return - (w[0] * returns[0] + w[1] * returns[1]) * initial_wealth\n",
    "\n",
    "\n",
    "def weight_sum_constraint(w):\n",
    "    return w[0] + w[1] - 1.0\n",
    "\n",
    "\n",
    "def expected_value_portfolio(w, returns, initial_wealth):\n",
    "    return (w[0] * returns[0] + w[1] * returns[1]) * initial_wealth\n",
    "\n",
    "\n",
    "def variance_portfolio(w, vcv_matrix):\n",
    "    return w @ vcv_matrix @ w\n",
    "\n",
    "\n",
    "def calculate_var(w, quantile, vcv_matrix, returns, initial_wealth):\n",
    "    variance = variance_portfolio(w, vcv_matrix)\n",
    "    expected_value_portfolio_number = expected_value_portfolio(w, returns, initial_wealth)\n",
    "    return np.sqrt(variance) * norm.ppf(quantile) + expected_value_portfolio_number\n",
    "\n",
    "\n",
    "def var_risk_constraint(w, quantile, vcv_matrix, returns, initial_wealth):\n",
    "    variance = variance_portfolio(w, vcv_matrix)\n",
    "    var = calculate_var(w, quantile, vcv_matrix, returns, initial_wealth)\n",
    "    return variance - var / norm.ppf(quantile)\n",
    "\n",
    "\n",
    "def calculate_optimal_weights(returns, vcv_matrix, initial_wealth, var_quantile):\n",
    "    \"\"\"This function calculates the optimal weights for an investor maximizing return\n",
    "    under a Value-at-Risk constraint. The market has only 2 risky assets\n",
    "\n",
    "    Args:\n",
    "        returns (np.array): A numpy array of expected returns for each asset\n",
    "        vcv_matrix (np.array): A numpy array of the variance-covariance matrix for the returns od the assets!\n",
    "        initial_wealth (float): The initial wealth of the investor\n",
    "        var_quantile (float): The quantile of Value-at-Risk constraint\n",
    "\n",
    "    Returns:\n",
    "        optimal_weights (np.array): A numpy array of the optimal weights for each asset\n",
    "    \"\"\"\n",
    "\n",
    "    # Initial guess for the optimization\n",
    "    initial_guess = [0.5, 0.5]\n",
    "\n",
    "    # Constraint Dictionary\n",
    "    constraints = (\n",
    "        {'type': 'eq', 'fun': weight_sum_constraint},\n",
    "        {'type': 'ineq', 'fun': var_risk_constraint, 'args': (var_quantile, vcv_matrix, returns, initial_wealth)})\n",
    "\n",
    "    # Perform optimization\n",
    "    result = minimize(objective_function, initial_guess, constraints=constraints, args=(returns, initial_wealth))\n",
    "\n",
    "    return result.x\n",
    "\n",
    "\n",
    "# Check if the script is being run as the main program\n",
    "if __name__ == \"__main__\":\n",
    "    returns = np.array([1.1, 1.2])\n",
    "    vcv_matrix = np.array([[1.1, 0.5], [0.5, 1.5]])\n",
    "    initial_wealth = 100\n",
    "    var_quantile = 0.99\n",
    "\n",
    "    optimal_weights = calculate_optimal_weights(returns, vcv_matrix, initial_wealth, var_quantile)\n",
    "\n",
    "    print(optimal_weights)\n"
   ]
  }
 ],
 "metadata": {
  "kernelspec": {
   "display_name": "Python 3",
   "language": "python",
   "name": "python3"
  },
  "language_info": {
   "codemirror_mode": {
    "name": "ipython",
    "version": 3
   },
   "file_extension": ".py",
   "mimetype": "text/x-python",
   "name": "python",
   "nbconvert_exporter": "python",
   "pygments_lexer": "ipython3",
   "version": "3.11.4"
  }
 },
 "nbformat": 4,
 "nbformat_minor": 2
}
